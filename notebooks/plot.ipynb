{
 "cells": [
  {
   "cell_type": "code",
   "execution_count": 1,
   "metadata": {},
   "outputs": [],
   "source": [
    "import pandas as pd\n",
    "import matplotlib.pyplot as plt"
   ]
  },
  {
   "cell_type": "code",
   "execution_count": 2,
   "metadata": {},
   "outputs": [],
   "source": [
    "plt.style.use('ggplot')"
   ]
  },
  {
   "cell_type": "code",
   "execution_count": 3,
   "metadata": {},
   "outputs": [],
   "source": [
    "result = pd.read_csv('../benchmark.csv')"
   ]
  },
  {
   "cell_type": "code",
   "execution_count": 4,
   "metadata": {},
   "outputs": [],
   "source": [
    "result = result.set_index('model')"
   ]
  },
  {
   "cell_type": "code",
   "execution_count": 5,
   "metadata": {},
   "outputs": [
    {
     "data": {
      "text/html": [
       "<div>\n",
       "<style scoped>\n",
       "    .dataframe tbody tr th:only-of-type {\n",
       "        vertical-align: middle;\n",
       "    }\n",
       "\n",
       "    .dataframe tbody tr th {\n",
       "        vertical-align: top;\n",
       "    }\n",
       "\n",
       "    .dataframe thead th {\n",
       "        text-align: right;\n",
       "    }\n",
       "</style>\n",
       "<table border=\"1\" class=\"dataframe\">\n",
       "  <thead>\n",
       "    <tr style=\"text-align: right;\">\n",
       "      <th></th>\n",
       "      <th>batch_size</th>\n",
       "      <th>max_torch</th>\n",
       "      <th>max_onnx</th>\n",
       "      <th>torch</th>\n",
       "      <th>ort</th>\n",
       "    </tr>\n",
       "    <tr>\n",
       "      <th>model</th>\n",
       "      <th></th>\n",
       "      <th></th>\n",
       "      <th></th>\n",
       "      <th></th>\n",
       "      <th></th>\n",
       "    </tr>\n",
       "  </thead>\n",
       "  <tbody>\n",
       "    <tr>\n",
       "      <th>yolov8n-seg</th>\n",
       "      <td>1</td>\n",
       "      <td>2.966351</td>\n",
       "      <td>2.556902</td>\n",
       "      <td>2.647821</td>\n",
       "      <td>2.683977</td>\n",
       "    </tr>\n",
       "    <tr>\n",
       "      <th>tf_efficientnet_lite0</th>\n",
       "      <td>1</td>\n",
       "      <td>2.012307</td>\n",
       "      <td>2.179487</td>\n",
       "      <td>1.119683</td>\n",
       "      <td>0.252065</td>\n",
       "    </tr>\n",
       "    <tr>\n",
       "      <th>mobilenet_v2</th>\n",
       "      <td>1</td>\n",
       "      <td>1.631421</td>\n",
       "      <td>1.618055</td>\n",
       "      <td>0.997635</td>\n",
       "      <td>0.214323</td>\n",
       "    </tr>\n",
       "    <tr>\n",
       "      <th>mobilenet_v3_large</th>\n",
       "      <td>1</td>\n",
       "      <td>1.573573</td>\n",
       "      <td>1.160725</td>\n",
       "      <td>0.899292</td>\n",
       "      <td>0.291389</td>\n",
       "    </tr>\n",
       "    <tr>\n",
       "      <th>resnet50</th>\n",
       "      <td>1</td>\n",
       "      <td>1.302499</td>\n",
       "      <td>1.050612</td>\n",
       "      <td>2.292696</td>\n",
       "      <td>1.459600</td>\n",
       "    </tr>\n",
       "  </tbody>\n",
       "</table>\n",
       "</div>"
      ],
      "text/plain": [
       "                       batch_size  max_torch  max_onnx     torch       ort\n",
       "model                                                                     \n",
       "yolov8n-seg                     1   2.966351  2.556902  2.647821  2.683977\n",
       "tf_efficientnet_lite0           1   2.012307  2.179487  1.119683  0.252065\n",
       "mobilenet_v2                    1   1.631421  1.618055  0.997635  0.214323\n",
       "mobilenet_v3_large              1   1.573573  1.160725  0.899292  0.291389\n",
       "resnet50                        1   1.302499  1.050612  2.292696  1.459600"
      ]
     },
     "execution_count": 5,
     "metadata": {},
     "output_type": "execute_result"
    }
   ],
   "source": [
    "result"
   ]
  },
  {
   "cell_type": "code",
   "execution_count": 6,
   "metadata": {},
   "outputs": [],
   "source": [
    "result = result[['ort', 'torch', 'max_torch', 'max_onnx']]"
   ]
  },
  {
   "cell_type": "code",
   "execution_count": 8,
   "metadata": {},
   "outputs": [
    {
     "name": "stderr",
     "output_type": "stream",
     "text": [
      "/tmp/ipykernel_56792/1733701411.py:1: SettingWithCopyWarning: \n",
      "A value is trying to be set on a copy of a slice from a DataFrame\n",
      "\n",
      "See the caveats in the documentation: https://pandas.pydata.org/pandas-docs/stable/user_guide/indexing.html#returning-a-view-versus-a-copy\n",
      "  result.rename(columns={'ort': 'onnxruntime'}, inplace=True)\n"
     ]
    }
   ],
   "source": [
    "result.rename(columns={'ort': 'onnxruntime'}, inplace=True)"
   ]
  },
  {
   "cell_type": "code",
   "execution_count": 9,
   "metadata": {},
   "outputs": [
    {
     "data": {
      "text/plain": [
       "<Axes: xlabel='time [sec]', ylabel='model'>"
      ]
     },
     "execution_count": 9,
     "metadata": {},
     "output_type": "execute_result"
    },
    {
     "data": {
      "image/png": "[encoded data removed]",
      "text/plain": [
       "<Figure size 900x500 with 1 Axes>"
      ]
     },
     "metadata": {},
     "output_type": "display_data"
    }
   ],
   "source": [
    "result.plot.barh(xlabel=\"time [sec]\", figsize=(9, 5))"
   ]
  },
  {
   "cell_type": "code",
   "execution_count": null,
   "metadata": {},
   "outputs": [],
   "source": []
  }
 ],
 "metadata": {
  "kernelspec": {
   "display_name": ".venv",
   "language": "python",
   "name": "python3"
  },
  "language_info": {
   "codemirror_mode": {
    "name": "ipython",
    "version": 3
   },
   "file_extension": ".py",
   "mimetype": "text/x-python",
   "name": "python",
   "nbconvert_exporter": "python",
   "pygments_lexer": "ipython3",
   "version": "3.10.14"
  }
 },
 "nbformat": 4,
 "nbformat_minor": 2
}
